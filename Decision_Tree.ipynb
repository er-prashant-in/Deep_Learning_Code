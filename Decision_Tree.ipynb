{
 "cells": [
  {
   "cell_type": "code",
   "execution_count": 1,
   "id": "0a1fe573",
   "metadata": {},
   "outputs": [],
   "source": [
    "# Basic Import\n",
    "import numpy as np\n",
    "import pandas as pd\n",
    "import matplotlib.pyplot as plt \n",
    "import seaborn as sns\n",
    "# Modelling\n",
    "from sklearn.model_selection import train_test_split\n",
    "from sklearn.tree import DecisionTreeClassifier\n",
    "from sklearn.linear_model import LinearRegression\n",
    "from sklearn.svm import SVR\n",
    "from sklearn.neural_network import MLPRegressor\n",
    "from sklearn.ensemble import StackingRegressor\n",
    "from sklearn import metrics\n",
    "from sklearn.metrics import r2_score, mean_absolute_error, mean_squared_error\n",
    "import warnings"
   ]
  },
  {
   "cell_type": "code",
   "execution_count": 2,
   "id": "de5d373b",
   "metadata": {},
   "outputs": [],
   "source": [
    "df = pd.read_csv('Cold_Storage.csv')"
   ]
  },
  {
   "cell_type": "code",
   "execution_count": 3,
   "id": "d8a2f7f3",
   "metadata": {},
   "outputs": [
    {
     "data": {
      "text/html": [
       "<div>\n",
       "<style scoped>\n",
       "    .dataframe tbody tr th:only-of-type {\n",
       "        vertical-align: middle;\n",
       "    }\n",
       "\n",
       "    .dataframe tbody tr th {\n",
       "        vertical-align: top;\n",
       "    }\n",
       "\n",
       "    .dataframe thead th {\n",
       "        text-align: right;\n",
       "    }\n",
       "</style>\n",
       "<table border=\"1\" class=\"dataframe\">\n",
       "  <thead>\n",
       "    <tr style=\"text-align: right;\">\n",
       "      <th></th>\n",
       "      <th>Temperature</th>\n",
       "      <th>Humidity</th>\n",
       "      <th>Oxygen</th>\n",
       "      <th>Carbon Dioxide</th>\n",
       "      <th>Nitrogen</th>\n",
       "      <th>Ethylene</th>\n",
       "      <th>Sulfur Dioxide</th>\n",
       "      <th>Moisture Control</th>\n",
       "      <th>Crop</th>\n",
       "    </tr>\n",
       "  </thead>\n",
       "  <tbody>\n",
       "    <tr>\n",
       "      <th>0</th>\n",
       "      <td>4</td>\n",
       "      <td>90</td>\n",
       "      <td>4</td>\n",
       "      <td>5</td>\n",
       "      <td>94</td>\n",
       "      <td>0</td>\n",
       "      <td>0</td>\n",
       "      <td>93</td>\n",
       "      <td>apple</td>\n",
       "    </tr>\n",
       "    <tr>\n",
       "      <th>1</th>\n",
       "      <td>3</td>\n",
       "      <td>91</td>\n",
       "      <td>3</td>\n",
       "      <td>3</td>\n",
       "      <td>96</td>\n",
       "      <td>0</td>\n",
       "      <td>0</td>\n",
       "      <td>93</td>\n",
       "      <td>apple</td>\n",
       "    </tr>\n",
       "    <tr>\n",
       "      <th>2</th>\n",
       "      <td>1</td>\n",
       "      <td>93</td>\n",
       "      <td>2</td>\n",
       "      <td>3</td>\n",
       "      <td>92</td>\n",
       "      <td>0</td>\n",
       "      <td>0</td>\n",
       "      <td>91</td>\n",
       "      <td>apple</td>\n",
       "    </tr>\n",
       "    <tr>\n",
       "      <th>3</th>\n",
       "      <td>4</td>\n",
       "      <td>90</td>\n",
       "      <td>1</td>\n",
       "      <td>5</td>\n",
       "      <td>90</td>\n",
       "      <td>0</td>\n",
       "      <td>0</td>\n",
       "      <td>93</td>\n",
       "      <td>apple</td>\n",
       "    </tr>\n",
       "    <tr>\n",
       "      <th>4</th>\n",
       "      <td>3</td>\n",
       "      <td>95</td>\n",
       "      <td>1</td>\n",
       "      <td>5</td>\n",
       "      <td>90</td>\n",
       "      <td>0</td>\n",
       "      <td>0</td>\n",
       "      <td>90</td>\n",
       "      <td>apple</td>\n",
       "    </tr>\n",
       "  </tbody>\n",
       "</table>\n",
       "</div>"
      ],
      "text/plain": [
       "   Temperature  Humidity  Oxygen  Carbon Dioxide  Nitrogen  Ethylene   \n",
       "0            4        90       4               5        94         0  \\\n",
       "1            3        91       3               3        96         0   \n",
       "2            1        93       2               3        92         0   \n",
       "3            4        90       1               5        90         0   \n",
       "4            3        95       1               5        90         0   \n",
       "\n",
       "   Sulfur Dioxide  Moisture Control   Crop  \n",
       "0               0                93  apple  \n",
       "1               0                93  apple  \n",
       "2               0                91  apple  \n",
       "3               0                93  apple  \n",
       "4               0                90  apple  "
      ]
     },
     "execution_count": 3,
     "metadata": {},
     "output_type": "execute_result"
    }
   ],
   "source": [
    "df.head()"
   ]
  },
  {
   "cell_type": "code",
   "execution_count": 4,
   "id": "3441473b",
   "metadata": {},
   "outputs": [],
   "source": [
    "X = df.drop(columns=['Crop'],axis=1)"
   ]
  },
  {
   "cell_type": "code",
   "execution_count": 5,
   "id": "cf3fb95d",
   "metadata": {},
   "outputs": [
    {
     "data": {
      "text/html": [
       "<div>\n",
       "<style scoped>\n",
       "    .dataframe tbody tr th:only-of-type {\n",
       "        vertical-align: middle;\n",
       "    }\n",
       "\n",
       "    .dataframe tbody tr th {\n",
       "        vertical-align: top;\n",
       "    }\n",
       "\n",
       "    .dataframe thead th {\n",
       "        text-align: right;\n",
       "    }\n",
       "</style>\n",
       "<table border=\"1\" class=\"dataframe\">\n",
       "  <thead>\n",
       "    <tr style=\"text-align: right;\">\n",
       "      <th></th>\n",
       "      <th>Temperature</th>\n",
       "      <th>Humidity</th>\n",
       "      <th>Oxygen</th>\n",
       "      <th>Carbon Dioxide</th>\n",
       "      <th>Nitrogen</th>\n",
       "      <th>Ethylene</th>\n",
       "      <th>Sulfur Dioxide</th>\n",
       "      <th>Moisture Control</th>\n",
       "    </tr>\n",
       "  </thead>\n",
       "  <tbody>\n",
       "    <tr>\n",
       "      <th>0</th>\n",
       "      <td>4</td>\n",
       "      <td>90</td>\n",
       "      <td>4</td>\n",
       "      <td>5</td>\n",
       "      <td>94</td>\n",
       "      <td>0</td>\n",
       "      <td>0</td>\n",
       "      <td>93</td>\n",
       "    </tr>\n",
       "    <tr>\n",
       "      <th>1</th>\n",
       "      <td>3</td>\n",
       "      <td>91</td>\n",
       "      <td>3</td>\n",
       "      <td>3</td>\n",
       "      <td>96</td>\n",
       "      <td>0</td>\n",
       "      <td>0</td>\n",
       "      <td>93</td>\n",
       "    </tr>\n",
       "    <tr>\n",
       "      <th>2</th>\n",
       "      <td>1</td>\n",
       "      <td>93</td>\n",
       "      <td>2</td>\n",
       "      <td>3</td>\n",
       "      <td>92</td>\n",
       "      <td>0</td>\n",
       "      <td>0</td>\n",
       "      <td>91</td>\n",
       "    </tr>\n",
       "    <tr>\n",
       "      <th>3</th>\n",
       "      <td>4</td>\n",
       "      <td>90</td>\n",
       "      <td>1</td>\n",
       "      <td>5</td>\n",
       "      <td>90</td>\n",
       "      <td>0</td>\n",
       "      <td>0</td>\n",
       "      <td>93</td>\n",
       "    </tr>\n",
       "    <tr>\n",
       "      <th>4</th>\n",
       "      <td>3</td>\n",
       "      <td>95</td>\n",
       "      <td>1</td>\n",
       "      <td>5</td>\n",
       "      <td>90</td>\n",
       "      <td>0</td>\n",
       "      <td>0</td>\n",
       "      <td>90</td>\n",
       "    </tr>\n",
       "  </tbody>\n",
       "</table>\n",
       "</div>"
      ],
      "text/plain": [
       "   Temperature  Humidity  Oxygen  Carbon Dioxide  Nitrogen  Ethylene   \n",
       "0            4        90       4               5        94         0  \\\n",
       "1            3        91       3               3        96         0   \n",
       "2            1        93       2               3        92         0   \n",
       "3            4        90       1               5        90         0   \n",
       "4            3        95       1               5        90         0   \n",
       "\n",
       "   Sulfur Dioxide  Moisture Control  \n",
       "0               0                93  \n",
       "1               0                93  \n",
       "2               0                91  \n",
       "3               0                93  \n",
       "4               0                90  "
      ]
     },
     "execution_count": 5,
     "metadata": {},
     "output_type": "execute_result"
    }
   ],
   "source": [
    "X.head()"
   ]
  },
  {
   "cell_type": "code",
   "execution_count": 6,
   "id": "1623da7a",
   "metadata": {},
   "outputs": [
    {
     "name": "stdout",
     "output_type": "stream",
     "text": [
      "Categories in 'Temperature' variable:      [ 4  3  1  2  0 10 14 13 11 12 15 17 16 18 20 19  7  9  5  8  6 28 27 25\n",
      " 26]\n",
      "Categories in 'Humidity' variable:   [90 91 93 95 92 94 54 51 58 50 53 56 57 55 59 52 60 15 14 13 12 86 87 88\n",
      " 85 89 70 62 61 66 63 65 68 67 64 69]\n",
      "Categories in'Oxygen' variable: [4 3 2 1 5]\n",
      "Categories in 'Carbon Dioxide' variable:      [ 5  3  2  4 16 12 15 13 14  7  6  8 10  9  1]\n",
      "Categories in 'Nitrogen' variable:      [94 96 92 90 93 97 91 95 84 82 86 81 80 85 83 79 87 88 89]\n",
      "Categories in 'Ethylene' variable:      [0]\n",
      "Categories in 'Sulfur Dioxide' variable:      [0]\n",
      "Categories in 'Moisture Control' variable:      [93 91 90 95 94 92 13 12 14 15 11 10 87 88 85 89 86 65 62 68 70 63 61 60\n",
      " 66 67 64 69 56 59 52 55 53 57 50 54 51 58]\n"
     ]
    }
   ],
   "source": [
    "print(\"Categories in 'Temperature' variable:     \",end=\" \" )\n",
    "print(df['Temperature'].unique())\n",
    "\n",
    "print(\"Categories in 'Humidity' variable:  \",end=\" \")\n",
    "print(df['Humidity'].unique())\n",
    "\n",
    "print(\"Categories in'Oxygen' variable:\",end=\" \" )\n",
    "print(df['Oxygen'].unique())\n",
    "\n",
    "print(\"Categories in 'Carbon Dioxide' variable:     \",end=\" \" )\n",
    "print(df['Carbon Dioxide'].unique())\n",
    "\n",
    "print(\"Categories in 'Nitrogen' variable:     \",end=\" \" )\n",
    "print(df['Nitrogen'].unique())\n",
    "\n",
    "print(\"Categories in 'Ethylene' variable:     \",end=\" \" )\n",
    "print(df['Ethylene'].unique())\n",
    "\n",
    "print(\"Categories in 'Sulfur Dioxide' variable:     \",end=\" \" )\n",
    "print(df['Sulfur Dioxide'].unique())\n",
    "\n",
    "print(\"Categories in 'Moisture Control' variable:     \",end=\" \" )\n",
    "print(df['Moisture Control'].unique())"
   ]
  },
  {
   "cell_type": "code",
   "execution_count": 7,
   "id": "e5c55f65",
   "metadata": {},
   "outputs": [],
   "source": [
    "y = df['Crop']"
   ]
  },
  {
   "cell_type": "code",
   "execution_count": 8,
   "id": "4ffe4a74",
   "metadata": {},
   "outputs": [
    {
     "data": {
      "text/plain": [
       "0          apple\n",
       "1          apple\n",
       "2          apple\n",
       "3          apple\n",
       "4          apple\n",
       "           ...  \n",
       "219995    tomato\n",
       "219996    tomato\n",
       "219997    tomato\n",
       "219998    tomato\n",
       "219999    tomato\n",
       "Name: Crop, Length: 220000, dtype: object"
      ]
     },
     "execution_count": 8,
     "metadata": {},
     "output_type": "execute_result"
    }
   ],
   "source": [
    "y"
   ]
  },
  {
   "cell_type": "code",
   "execution_count": 9,
   "id": "a6da8148",
   "metadata": {},
   "outputs": [],
   "source": [
    "# Create Column Transformer with 3 types of transformers\n",
    "num_features = X.select_dtypes(exclude=\"object\").columns\n",
    "cat_features = X.select_dtypes(include=\"object\").columns\n",
    "\n",
    "from sklearn.preprocessing import OneHotEncoder, StandardScaler\n",
    "from sklearn.compose import ColumnTransformer\n",
    "\n",
    "numeric_transformer = StandardScaler()\n",
    "oh_transformer = OneHotEncoder()\n",
    "\n",
    "preprocessor = ColumnTransformer(\n",
    "    [\n",
    "        (\"OneHotEncoder\", oh_transformer, cat_features),\n",
    "         (\"StandardScaler\", numeric_transformer, num_features),        \n",
    "    ]\n",
    ")"
   ]
  },
  {
   "cell_type": "code",
   "execution_count": 10,
   "id": "dc269cb6",
   "metadata": {},
   "outputs": [
    {
     "name": "stdout",
     "output_type": "stream",
     "text": [
      "[ 0  0  0 ... 20 20 20]\n"
     ]
    }
   ],
   "source": [
    "from sklearn.preprocessing import LabelEncoder\n",
    "\n",
    "\n",
    "\n",
    "# Initialize the LabelEncoder\n",
    "label_encoder = LabelEncoder()\n",
    "\n",
    "# Apply label encoding\n",
    "y= label_encoder.fit_transform(y)\n",
    "\n",
    "# Output the encoded data\n",
    "print(y)"
   ]
  },
  {
   "cell_type": "code",
   "execution_count": 11,
   "id": "45d323a3",
   "metadata": {},
   "outputs": [],
   "source": [
    "X = preprocessor.fit_transform(X)"
   ]
  },
  {
   "cell_type": "code",
   "execution_count": 12,
   "id": "5a6cb305",
   "metadata": {},
   "outputs": [
    {
     "data": {
      "text/plain": [
       "(220000, 8)"
      ]
     },
     "execution_count": 12,
     "metadata": {},
     "output_type": "execute_result"
    }
   ],
   "source": [
    "X.shape"
   ]
  },
  {
   "cell_type": "code",
   "execution_count": 13,
   "id": "6cd372d4",
   "metadata": {},
   "outputs": [
    {
     "data": {
      "text/plain": [
       "((176000, 8), (44000, 8))"
      ]
     },
     "execution_count": 13,
     "metadata": {},
     "output_type": "execute_result"
    }
   ],
   "source": [
    "from sklearn.model_selection import train_test_split\n",
    "X_train, X_test, y_train, y_test = train_test_split(X,y,test_size=0.2,random_state=42)\n",
    "X_train.shape, X_test.shape"
   ]
  },
  {
   "cell_type": "code",
   "execution_count": 14,
   "id": "1599663b",
   "metadata": {},
   "outputs": [],
   "source": [
    "def evaluate_model(true, predicted):\n",
    "    mae = mean_absolute_error(true, predicted)\n",
    "    mse = mean_squared_error(true, predicted)\n",
    "    rmse = np.sqrt(mean_squared_error(true, predicted))\n",
    "    r2_square = r2_score(true, predicted)\n",
    "    return mae, rmse, r2_square"
   ]
  },
  {
   "cell_type": "code",
   "execution_count": null,
   "id": "0c108039",
   "metadata": {},
   "outputs": [
    {
     "name": "stdout",
     "output_type": "stream",
     "text": [
      "Linear Regression\n",
      "Model performance for Training set\n",
      "- Root Mean Squared Error: 5.6996\n",
      "- Mean Absolute Error: 4.7080\n",
      "- R2 Score: 0.1946\n",
      "----------------------------------\n",
      "Model performance for Test set\n",
      "- Root Mean Squared Error: 5.6501\n",
      "- Mean Absolute Error: 4.6603\n",
      "- R2 Score: 0.2001\n",
      "===================================\n",
      "\n",
      "\n",
      "decision_tree\n",
      "Model performance for Training set\n",
      "- Root Mean Squared Error: 3.6005\n",
      "- Mean Absolute Error: 1.5531\n",
      "- R2 Score: 0.6786\n",
      "----------------------------------\n",
      "Model performance for Test set\n",
      "- Root Mean Squared Error: 4.5026\n",
      "- Mean Absolute Error: 2.3647\n",
      "- R2 Score: 0.4920\n",
      "===================================\n",
      "\n",
      "\n"
     ]
    }
   ],
   "source": [
    "models = {\n",
    "    \"Linear Regression\": LinearRegression(),\n",
    "    'decision_tree': DecisionTreeClassifier(random_state=42),\n",
    "    'svm': SVR(),\n",
    "    'neural_network': MLPRegressor(random_state=42, max_iter=1000)\n",
    "}\n",
    "model_list = []\n",
    "r2_list =[]\n",
    "\n",
    "for i in range(len(list(models))):\n",
    "    model = list(models.values())[i]\n",
    "    model.fit(X_train, y_train) # Train model\n",
    "\n",
    "    # Make predictions\n",
    "    y_train_pred = model.predict(X_train)\n",
    "    y_test_pred = model.predict(X_test)\n",
    "    \n",
    "    # Evaluate Train and Test dataset\n",
    "    model_train_mae , model_train_rmse, model_train_r2 = evaluate_model(y_train, y_train_pred)\n",
    "\n",
    "    model_test_mae , model_test_rmse, model_test_r2 = evaluate_model(y_test, y_test_pred)\n",
    "\n",
    "    \n",
    "    print(list(models.keys())[i])\n",
    "    model_list.append(list(models.keys())[i])\n",
    "    \n",
    "    print('Model performance for Training set')\n",
    "    print(\"- Root Mean Squared Error: {:.4f}\".format(model_train_rmse))\n",
    "    print(\"- Mean Absolute Error: {:.4f}\".format(model_train_mae))\n",
    "    print(\"- R2 Score: {:.4f}\".format(model_train_r2))\n",
    "\n",
    "    print('----------------------------------')\n",
    "    \n",
    "    print('Model performance for Test set')\n",
    "    print(\"- Root Mean Squared Error: {:.4f}\".format(model_test_rmse))\n",
    "    print(\"- Mean Absolute Error: {:.4f}\".format(model_test_mae))\n",
    "    print(\"- R2 Score: {:.4f}\".format(model_test_r2))\n",
    "    r2_list.append(model_test_r2)\n",
    "    \n",
    "    print('='*35)\n",
    "    print('\\n')"
   ]
  },
  {
   "cell_type": "code",
   "execution_count": null,
   "id": "a50360e0",
   "metadata": {},
   "outputs": [],
   "source": []
  }
 ],
 "metadata": {
  "kernelspec": {
   "display_name": "Python 3 (ipykernel)",
   "language": "python",
   "name": "python3"
  },
  "language_info": {
   "codemirror_mode": {
    "name": "ipython",
    "version": 3
   },
   "file_extension": ".py",
   "mimetype": "text/x-python",
   "name": "python",
   "nbconvert_exporter": "python",
   "pygments_lexer": "ipython3",
   "version": "3.10.9"
  }
 },
 "nbformat": 4,
 "nbformat_minor": 5
}
