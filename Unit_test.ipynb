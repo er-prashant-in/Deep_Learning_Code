{
 "cells": [
  {
   "cell_type": "code",
   "execution_count": 8,
   "id": "151a9ff4",
   "metadata": {},
   "outputs": [
    {
     "name": "stdout",
     "output_type": "stream",
     "text": [
      "[2 1 0 1 2]\n",
      "['red' 'green' 'blue' 'green' 'red']\n"
     ]
    }
   ],
   "source": [
    "from sklearn.preprocessing import LabelEncoder\n",
    "import pandas as pd\n",
    "\n",
    "# Create a sample categorical Series\n",
    "data = pd.Series(['red', 'green', 'blue', 'green', 'red'])\n",
    "\n",
    "# Initialize the LabelEncoder\n",
    "label_encoder = LabelEncoder()\n",
    "\n",
    "# Apply label encoding\n",
    "encoded_data = label_encoder.fit_transform(data)\n",
    "\n",
    "# Output the encoded data\n",
    "print(encoded_data)\n",
    "\n",
    "decoded_data = label_encoder.inverse_transform(encoded_data)\n",
    "\n",
    "# Output the decoded data\n",
    "print(decoded_data)\n"
   ]
  },
  {
   "cell_type": "code",
   "execution_count": 6,
   "id": "8e0c1d29",
   "metadata": {},
   "outputs": [
    {
     "name": "stdout",
     "output_type": "stream",
     "text": [
      "[2 1 0 1 2]\n"
     ]
    }
   ],
   "source": [
    "from sklearn.preprocessing import LabelEncoder\n",
    "\n",
    "# Initialize the LabelEncoder\n",
    "label_encoder = LabelEncoder()\n",
    "\n",
    "# Fit the LabelEncoder and transform the encoded data\n",
    "label_encoder.fit(encoded_data)\n",
    "decoded_data = label_encoder.inverse_transform(encoded_data)\n",
    "\n",
    "# Output the decoded data\n",
    "print(decoded_data)\n"
   ]
  },
  {
   "cell_type": "code",
   "execution_count": null,
   "id": "2b1cfb63",
   "metadata": {},
   "outputs": [],
   "source": []
  }
 ],
 "metadata": {
  "kernelspec": {
   "display_name": "Python 3 (ipykernel)",
   "language": "python",
   "name": "python3"
  },
  "language_info": {
   "codemirror_mode": {
    "name": "ipython",
    "version": 3
   },
   "file_extension": ".py",
   "mimetype": "text/x-python",
   "name": "python",
   "nbconvert_exporter": "python",
   "pygments_lexer": "ipython3",
   "version": "3.10.9"
  }
 },
 "nbformat": 4,
 "nbformat_minor": 5
}
